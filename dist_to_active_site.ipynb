{
 "cells": [
  {
   "cell_type": "markdown",
   "metadata": {},
   "source": [
    "### Calculate distance to active site for all residues in all enzymes\n",
    "\n",
    "As substrate large and variable, will not use closest distance to just that"
   ]
  },
  {
   "cell_type": "code",
   "execution_count": 3,
   "metadata": {},
   "outputs": [],
   "source": [
    "import pandas as pd\n",
    "\n",
    "from key_interactions_finder import utils "
   ]
  },
  {
   "cell_type": "code",
   "execution_count": 7,
   "metadata": {},
   "outputs": [],
   "source": [
    "# input and output folders\n",
    "PDB_DIR = \"pdb_files\"\n",
    "OUT_DIR = \"outputs/Distances\"\n",
    "PROTEINS = [\"TEM1_1M40\", \"ENCA_3ZDJ\", \"GNCA_4B88\", \"PNCA_4C6Y\"]\n",
    "\n",
    "PROTEIN_SITE_DEFITINITIONS = {\n",
    "    \"TEM1_1M40\": \"name OG and resid 45\", \n",
    "    \"ENCA_3ZDJ\": \"name OG and resid 45\", \n",
    "    \"GNCA_4B88\": \"name OG and resid 42\", \n",
    "    \"PNCA_4C6Y\": \"name OG and resid 44\"\n",
    "}\n",
    "LAST_RESIDUE_NUMBS = {\n",
    "    \"TEM1_1M40\": 263, \n",
    "    \"ENCA_3ZDJ\": 263, \n",
    "    \"GNCA_4B88\": 260, \n",
    "    \"PNCA_4C6Y\": 262 \n",
    "}"
   ]
  },
  {
   "cell_type": "code",
   "execution_count": 8,
   "metadata": {},
   "outputs": [
    {
     "name": "stderr",
     "output_type": "stream",
     "text": [
      "/home/roryc760/miniconda3/envs/py_3_10_kif/lib/python3.10/site-packages/MDAnalysis/topology/PDBParser.py:331: UserWarning: Element information is missing, elements attribute will not be populated. If needed these can be guessed using MDAnalysis.topology.guessers.\n",
      "  warnings.warn(\"Element information is missing, elements attribute \"\n"
     ]
    },
    {
     "name": "stdout",
     "output_type": "stream",
     "text": [
      "outputs/Distances/TEM1_1M40_Dists_to_active_site.txt written to disk.\n",
      "outputs/Distances/ENCA_3ZDJ_Dists_to_active_site.txt written to disk.\n",
      "outputs/Distances/GNCA_4B88_Dists_to_active_site.txt written to disk.\n",
      "outputs/Distances/PNCA_4C6Y_Dists_to_active_site.txt written to disk.\n"
     ]
    }
   ],
   "source": [
    "for protein, site_definition in PROTEIN_SITE_DEFITINITIONS.items():\n",
    "    pdb_file = f\"{PDB_DIR}/{protein}_Benzyl_Pen_postleap.pdb\"\n",
    "    out_file = f\"{OUT_DIR}/{protein}_Dists_to_active_site.txt\"\n",
    "\n",
    "    last_residue = LAST_RESIDUE_NUMBS[protein]\n",
    "\n",
    "    distances_to_site = utils.per_residue_distance_to_site(\n",
    "        pdb_file=pdb_file,\n",
    "        site_defintion=site_definition,\n",
    "        first_residue=1,\n",
    "        last_residue=last_residue,\n",
    "        side_chain_only=False, \n",
    "        out_file=out_file,\n",
    "    )"
   ]
  },
  {
   "cell_type": "code",
   "execution_count": null,
   "metadata": {},
   "outputs": [],
   "source": []
  },
  {
   "cell_type": "code",
   "execution_count": null,
   "metadata": {},
   "outputs": [],
   "source": []
  },
  {
   "cell_type": "code",
   "execution_count": null,
   "metadata": {},
   "outputs": [],
   "source": []
  },
  {
   "cell_type": "code",
   "execution_count": null,
   "metadata": {},
   "outputs": [],
   "source": []
  }
 ],
 "metadata": {
  "kernelspec": {
   "display_name": "py_3_10_kif",
   "language": "python",
   "name": "python3"
  },
  "language_info": {
   "codemirror_mode": {
    "name": "ipython",
    "version": 3
   },
   "file_extension": ".py",
   "mimetype": "text/x-python",
   "name": "python",
   "nbconvert_exporter": "python",
   "pygments_lexer": "ipython3",
   "version": "3.10.13"
  }
 },
 "nbformat": 4,
 "nbformat_minor": 2
}
