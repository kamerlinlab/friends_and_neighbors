{
 "cells": [
  {
   "cell_type": "markdown",
   "metadata": {},
   "source": [
    "### Notebook script to create the target variable for each system for KIF\n",
    "\n",
    "The target variable is the sum of 6 catalytic distances. Distances were precalculated using CPPTRAJ and are loaded into this notebook here."
   ]
  },
  {
   "cell_type": "code",
   "execution_count": 1,
   "metadata": {},
   "outputs": [],
   "source": [
    "import pandas as pd\n",
    "PROTEINS = [\"TEM1_1M40\", \"ENCA_3ZDJ\", \"GNCA_4B88\", \"PNCA_4C6Y\"]"
   ]
  },
  {
   "cell_type": "code",
   "execution_count": 2,
   "metadata": {},
   "outputs": [],
   "source": [
    "dfs = {}\n",
    "for protein in PROTEINS:\n",
    "\n",
    "    benzyl_dists = rf\"target_variable/{protein}_Benzyl_Pen_dists.dat\"\n",
    "    cefo_dists = rf\"target_variable/{protein}_Cefo_dists.dat\"\n",
    "\n",
    "    benzyl_df = pd.read_csv(benzyl_dists, sep=r\"\\s+\")\n",
    "    cefo_df = pd.read_csv(cefo_dists, sep=r\"\\s+\")\n",
    "    \n",
    "    benzyl_df[\"min_wat_glu\"] = benzyl_df[[\"wat_glu_1\", \"wat_glu_2\",\"wat_glu_3\", \"wat_glu_4\"]].min(axis=1)\n",
    "    cefo_df[\"min_wat_glu\"] = cefo_df[[\"wat_glu_1\", \"wat_glu_2\",\"wat_glu_3\", \"wat_glu_4\"]].min(axis=1)\n",
    "\n",
    "    dfs[f\"benzyl_{protein}\"] = benzyl_df\n",
    "    dfs[f\"cefo_{protein}\"] = cefo_df\n"
   ]
  },
  {
   "cell_type": "code",
   "execution_count": 3,
   "metadata": {},
   "outputs": [
    {
     "data": {
      "text/html": [
       "<div>\n",
       "<style scoped>\n",
       "    .dataframe tbody tr th:only-of-type {\n",
       "        vertical-align: middle;\n",
       "    }\n",
       "\n",
       "    .dataframe tbody tr th {\n",
       "        vertical-align: top;\n",
       "    }\n",
       "\n",
       "    .dataframe thead th {\n",
       "        text-align: right;\n",
       "    }\n",
       "</style>\n",
       "<table border=\"1\" class=\"dataframe\">\n",
       "  <thead>\n",
       "    <tr style=\"text-align: right;\">\n",
       "      <th></th>\n",
       "      <th>#Frame</th>\n",
       "      <th>wat_glu_1</th>\n",
       "      <th>wat_glu_2</th>\n",
       "      <th>wat_glu_3</th>\n",
       "      <th>wat_glu_4</th>\n",
       "      <th>wat_sub</th>\n",
       "      <th>ser130_sub</th>\n",
       "      <th>lys73_sub</th>\n",
       "      <th>asn132_lys73</th>\n",
       "      <th>a237_sub</th>\n",
       "      <th>ser70_sub</th>\n",
       "      <th>min_wat_glu</th>\n",
       "    </tr>\n",
       "  </thead>\n",
       "  <tbody>\n",
       "    <tr>\n",
       "      <th>0</th>\n",
       "      <td>1</td>\n",
       "      <td>2.7292</td>\n",
       "      <td>3.2782</td>\n",
       "      <td>1.5387</td>\n",
       "      <td>2.9310</td>\n",
       "      <td>3.4647</td>\n",
       "      <td>4.2470</td>\n",
       "      <td>2.9703</td>\n",
       "      <td>2.6982</td>\n",
       "      <td>3.0044</td>\n",
       "      <td>2.9051</td>\n",
       "      <td>1.5387</td>\n",
       "    </tr>\n",
       "    <tr>\n",
       "      <th>1</th>\n",
       "      <td>2</td>\n",
       "      <td>2.6014</td>\n",
       "      <td>3.6341</td>\n",
       "      <td>2.3339</td>\n",
       "      <td>3.8409</td>\n",
       "      <td>3.2838</td>\n",
       "      <td>4.5521</td>\n",
       "      <td>3.8695</td>\n",
       "      <td>2.6282</td>\n",
       "      <td>3.0248</td>\n",
       "      <td>2.8725</td>\n",
       "      <td>2.3339</td>\n",
       "    </tr>\n",
       "    <tr>\n",
       "      <th>2</th>\n",
       "      <td>3</td>\n",
       "      <td>1.9322</td>\n",
       "      <td>2.9753</td>\n",
       "      <td>1.9513</td>\n",
       "      <td>3.4573</td>\n",
       "      <td>4.1776</td>\n",
       "      <td>4.4883</td>\n",
       "      <td>4.3973</td>\n",
       "      <td>3.1290</td>\n",
       "      <td>2.7006</td>\n",
       "      <td>2.6614</td>\n",
       "      <td>1.9322</td>\n",
       "    </tr>\n",
       "  </tbody>\n",
       "</table>\n",
       "</div>"
      ],
      "text/plain": [
       "   #Frame  wat_glu_1  wat_glu_2  wat_glu_3  wat_glu_4  wat_sub  ser130_sub  \\\n",
       "0       1     2.7292     3.2782     1.5387     2.9310   3.4647      4.2470   \n",
       "1       2     2.6014     3.6341     2.3339     3.8409   3.2838      4.5521   \n",
       "2       3     1.9322     2.9753     1.9513     3.4573   4.1776      4.4883   \n",
       "\n",
       "   lys73_sub  asn132_lys73  a237_sub  ser70_sub  min_wat_glu  \n",
       "0     2.9703        2.6982    3.0044     2.9051       1.5387  \n",
       "1     3.8695        2.6282    3.0248     2.8725       2.3339  \n",
       "2     4.3973        3.1290    2.7006     2.6614       1.9322  "
      ]
     },
     "execution_count": 3,
     "metadata": {},
     "output_type": "execute_result"
    }
   ],
   "source": [
    "dfs[\"benzyl_TEM1_1M40\"].head(3)"
   ]
  },
  {
   "cell_type": "markdown",
   "metadata": {},
   "source": [
    "calc the target variable and append to each dataframe as a new column"
   ]
  },
  {
   "cell_type": "code",
   "execution_count": 4,
   "metadata": {},
   "outputs": [],
   "source": [
    "for protein, df in dfs.items():\n",
    "    target_variable = []\n",
    "    for idx, row in df.iterrows():\n",
    "        \n",
    "        # distances:\n",
    "        wat_sub_dist = row[\"wat_sub\"]\n",
    "        wat_glu_dist = row[\"min_wat_glu\"]\n",
    "        lys73_sub_dist = row[\"lys73_sub\"]\n",
    "        asn132_lys73_dist = row[\"asn132_lys73\"]\n",
    "        a237_sub_dist = row[\"a237_sub\"]\n",
    "        ser70_sub_dist = row[\"ser70_sub\"]\n",
    "        \n",
    "        # add regression values here...\n",
    "        total_dist = sum([\n",
    "            wat_sub_dist, wat_glu_dist, lys73_sub_dist, asn132_lys73_dist, a237_sub_dist, ser70_sub_dist\n",
    "        ])\n",
    "        target_variable.append(total_dist)\n",
    "        \n",
    "    df[\"Target Variable\"] = target_variable"
   ]
  },
  {
   "cell_type": "code",
   "execution_count": 5,
   "metadata": {},
   "outputs": [
    {
     "data": {
      "text/html": [
       "<div>\n",
       "<style scoped>\n",
       "    .dataframe tbody tr th:only-of-type {\n",
       "        vertical-align: middle;\n",
       "    }\n",
       "\n",
       "    .dataframe tbody tr th {\n",
       "        vertical-align: top;\n",
       "    }\n",
       "\n",
       "    .dataframe thead th {\n",
       "        text-align: right;\n",
       "    }\n",
       "</style>\n",
       "<table border=\"1\" class=\"dataframe\">\n",
       "  <thead>\n",
       "    <tr style=\"text-align: right;\">\n",
       "      <th></th>\n",
       "      <th>#Frame</th>\n",
       "      <th>wat_glu_1</th>\n",
       "      <th>wat_glu_2</th>\n",
       "      <th>wat_glu_3</th>\n",
       "      <th>wat_glu_4</th>\n",
       "      <th>wat_sub</th>\n",
       "      <th>ser130_sub</th>\n",
       "      <th>lys73_sub</th>\n",
       "      <th>asn132_lys73</th>\n",
       "      <th>a237_sub</th>\n",
       "      <th>ser70_sub</th>\n",
       "      <th>min_wat_glu</th>\n",
       "      <th>Target Variable</th>\n",
       "    </tr>\n",
       "  </thead>\n",
       "  <tbody>\n",
       "    <tr>\n",
       "      <th>0</th>\n",
       "      <td>1</td>\n",
       "      <td>2.7292</td>\n",
       "      <td>3.2782</td>\n",
       "      <td>1.5387</td>\n",
       "      <td>2.9310</td>\n",
       "      <td>3.4647</td>\n",
       "      <td>4.2470</td>\n",
       "      <td>2.9703</td>\n",
       "      <td>2.6982</td>\n",
       "      <td>3.0044</td>\n",
       "      <td>2.9051</td>\n",
       "      <td>1.5387</td>\n",
       "      <td>16.5814</td>\n",
       "    </tr>\n",
       "    <tr>\n",
       "      <th>1</th>\n",
       "      <td>2</td>\n",
       "      <td>2.6014</td>\n",
       "      <td>3.6341</td>\n",
       "      <td>2.3339</td>\n",
       "      <td>3.8409</td>\n",
       "      <td>3.2838</td>\n",
       "      <td>4.5521</td>\n",
       "      <td>3.8695</td>\n",
       "      <td>2.6282</td>\n",
       "      <td>3.0248</td>\n",
       "      <td>2.8725</td>\n",
       "      <td>2.3339</td>\n",
       "      <td>18.0127</td>\n",
       "    </tr>\n",
       "    <tr>\n",
       "      <th>2</th>\n",
       "      <td>3</td>\n",
       "      <td>1.9322</td>\n",
       "      <td>2.9753</td>\n",
       "      <td>1.9513</td>\n",
       "      <td>3.4573</td>\n",
       "      <td>4.1776</td>\n",
       "      <td>4.4883</td>\n",
       "      <td>4.3973</td>\n",
       "      <td>3.1290</td>\n",
       "      <td>2.7006</td>\n",
       "      <td>2.6614</td>\n",
       "      <td>1.9322</td>\n",
       "      <td>18.9981</td>\n",
       "    </tr>\n",
       "  </tbody>\n",
       "</table>\n",
       "</div>"
      ],
      "text/plain": [
       "   #Frame  wat_glu_1  wat_glu_2  wat_glu_3  wat_glu_4  wat_sub  ser130_sub  \\\n",
       "0       1     2.7292     3.2782     1.5387     2.9310   3.4647      4.2470   \n",
       "1       2     2.6014     3.6341     2.3339     3.8409   3.2838      4.5521   \n",
       "2       3     1.9322     2.9753     1.9513     3.4573   4.1776      4.4883   \n",
       "\n",
       "   lys73_sub  asn132_lys73  a237_sub  ser70_sub  min_wat_glu  Target Variable  \n",
       "0     2.9703        2.6982    3.0044     2.9051       1.5387          16.5814  \n",
       "1     3.8695        2.6282    3.0248     2.8725       2.3339          18.0127  \n",
       "2     4.3973        3.1290    2.7006     2.6614       1.9322          18.9981  "
      ]
     },
     "execution_count": 5,
     "metadata": {},
     "output_type": "execute_result"
    }
   ],
   "source": [
    "dfs[\"benzyl_TEM1_1M40\"].head(3)"
   ]
  },
  {
   "cell_type": "markdown",
   "metadata": {},
   "source": [
    "write the target variable out for each system"
   ]
  },
  {
   "cell_type": "code",
   "execution_count": 6,
   "metadata": {},
   "outputs": [],
   "source": [
    "for system_name, df in dfs.items():\n",
    "    target_values = df[\"Target Variable\"]\n",
    "    out_file = rf\"target_variable/{system_name}_Regress.txt\"\n",
    "    with open(out_file, \"w\") as file:\n",
    "        for value in target_values:\n",
    "            file.write(f\"{value}\\n\")"
   ]
  },
  {
   "cell_type": "code",
   "execution_count": null,
   "metadata": {},
   "outputs": [],
   "source": []
  }
 ],
 "metadata": {
  "kernelspec": {
   "display_name": "py_3_10_kif",
   "language": "python",
   "name": "python3"
  },
  "language_info": {
   "codemirror_mode": {
    "name": "ipython",
    "version": 3
   },
   "file_extension": ".py",
   "mimetype": "text/x-python",
   "name": "python",
   "nbconvert_exporter": "python",
   "pygments_lexer": "ipython3",
   "version": "3.11.7"
  }
 },
 "nbformat": 4,
 "nbformat_minor": 2
}
