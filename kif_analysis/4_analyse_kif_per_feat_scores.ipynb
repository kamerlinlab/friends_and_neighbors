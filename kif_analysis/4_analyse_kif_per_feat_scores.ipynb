{
 "cells": [
  {
   "cell_type": "markdown",
   "metadata": {},
   "source": [
    "### Workup KIF results - part 2\n",
    "\n",
    "Compare per interaction/feature scores across systems using a multiple sequence alingment (MSA). Make pymol projections for the per feature/interaction scores. "
   ]
  },
  {
   "cell_type": "code",
   "execution_count": 1,
   "metadata": {},
   "outputs": [],
   "source": [
    "import re\n",
    "import pandas as pd\n",
    "from key_interactions_finder.pymol_projections import project_pymol_top_features\n",
    "\n",
    "KIF_FILES = {\n",
    "    \"TEM1\": \n",
    "        {\n",
    "            \"benzyl\": r\"outputs/TEM1_1M40_benzyl/Linear_Correlations_Per_Feature_Scores.csv\",\n",
    "            \"cefo\": r\"outputs/TEM1_1M40_cefo/Linear_Correlations_Per_Feature_Scores.csv\"\n",
    "        },\n",
    "    \"ENCA\": \n",
    "        {\n",
    "            \"benzyl\": r\"outputs/ENCA_3ZDJ_benzyl/Linear_Correlations_Per_Feature_Scores.csv\",\n",
    "            \"cefo\": r\"outputs/ENCA_3ZDJ_cefo/Linear_Correlations_Per_Feature_Scores.csv\"\n",
    "        },\n",
    "    \"GNCA\": \n",
    "        {\n",
    "            \"benzyl\": r\"outputs/GNCA_4B88_benzyl/Linear_Correlations_Per_Feature_Scores.csv\",\n",
    "            \"cefo\": r\"outputs/GNCA_4B88_cefo/Linear_Correlations_Per_Feature_Scores.csv\"\n",
    "        },\n",
    "    \"PNCA\": \n",
    "        {\n",
    "            \"benzyl\": r\"outputs/PNCA_4C6Y_benzyl/Linear_Correlations_Per_Feature_Scores.csv\",\n",
    "            \"cefo\": r\"outputs/PNCA_4C6Y_cefo/Linear_Correlations_Per_Feature_Scores.csv\"\n",
    "        }\n",
    "}\n",
    "ALINGMENT_FILE = r\"raw_data/align1d.ali\"\n",
    "\n",
    "GENERALISTS = [\"GNCA\", \"PNCA\"]\n",
    "SPECIALISTS = [\"TEM1\", \"ENCA\"]"
   ]
  },
  {
   "cell_type": "markdown",
   "metadata": {},
   "source": [
    "helper functions to be used throughout notebook"
   ]
  },
  {
   "cell_type": "code",
   "execution_count": 2,
   "metadata": {},
   "outputs": [],
   "source": [
    "def parse_fasta(file_path: str) -> dict[str, str]:\n",
    "    \"\"\"\n",
    "    Takes a multiple sequence alingment (msa) file  produced by modeller\n",
    "    (with fasta formating) and outputs a sequence as string with '-' \n",
    "    for the gaps introduced by the msa.\n",
    "\n",
    "    Parameters\n",
    "    ----------\n",
    "    file_path: str\n",
    "        File path to the multiple sequence alingment file.\n",
    "\n",
    "    Returns\n",
    "    ----------\n",
    "    dict[int, int]\n",
    "        key is the pdb residue number, value is the msa residue number.\n",
    "    \"\"\"\n",
    "    sequences = {}\n",
    "    current_name = None\n",
    "    current_sequence = []\n",
    "\n",
    "    with open(file_path, \"r\", encoding=\"utf-8\") as file:\n",
    "        for line in file:\n",
    "            line = line.strip()\n",
    "\n",
    "            if line.startswith(\">\"):\n",
    "                if current_name is not None:\n",
    "                    sequences[current_name] = \"\".join(current_sequence)\n",
    "                    current_sequence = []\n",
    "\n",
    "                current_name = line[1:]\n",
    "            else:\n",
    "                current_sequence.append(line)\n",
    "\n",
    "        # Add the last sequence to the dictionary\n",
    "        if current_name is not None:\n",
    "            sequences[current_name] = \"\".join(current_sequence)\n",
    "\n",
    "    return sequences\n",
    "\n",
    "def create_pdb_to_msa_converter(msa_sequence: str) -> dict[int, int]:\n",
    "    \"\"\"\n",
    "    Create a dictionary that can enable easily converting\n",
    "    between pdb and msa numbers given an msa_sequence.\n",
    "\n",
    "    Parameters\n",
    "    ----------\n",
    "    msa_sequence: str\n",
    "        msa sequence of the target protein.\n",
    "\n",
    "    Returns\n",
    "    ----------\n",
    "    dict[int, int]\n",
    "        key is the pdb residue number, value is the msa residue number.\n",
    "    \"\"\"\n",
    "    curr_msa_number, curr_pdb_numb = 0, 0\n",
    "    index_pdb_msa = {}\n",
    "    for msa_residue in msa_sequence:\n",
    "        if msa_residue == \"*\":\n",
    "            continue\n",
    "        if msa_residue == \"-\":\n",
    "            curr_msa_number += 1\n",
    "        else:\n",
    "            curr_msa_number += 1\n",
    "            curr_pdb_numb += 1\n",
    "\n",
    "            index_pdb_msa[curr_pdb_numb] = curr_msa_number\n",
    "    return index_pdb_msa\n",
    "\n",
    "def modify_column_residue_numbers(interaction_names: list[str], constant_to_add: int = 1) ->list[str]:\n",
    "    \"\"\"\n",
    "    Modify the residue numbers in a list of interactions by adding a constant value to them. \n",
    "    default = 1. \n",
    "    \"\"\"\n",
    "    updated_names = []\n",
    "    for column_name in interaction_names:\n",
    "        res_split = re.split(r\"(\\d+)\", column_name)\n",
    "\n",
    "        res1_numb = int(res_split[1])\n",
    "        res1_name = res_split[2]\n",
    "        res2_numb = int(res_split[3])\n",
    "        remainder = res_split[4]\n",
    "\n",
    "        res1_numb += constant_to_add\n",
    "        res2_numb += constant_to_add\n",
    "\n",
    "        updated_name = str(res1_numb) + res1_name + \\\n",
    "            str(res2_numb) + remainder\n",
    "        updated_names.append(updated_name)\n",
    "\n",
    "    return updated_names"
   ]
  },
  {
   "cell_type": "markdown",
   "metadata": {},
   "source": [
    "load in the msa data"
   ]
  },
  {
   "cell_type": "code",
   "execution_count": 3,
   "metadata": {},
   "outputs": [],
   "source": [
    "msa_seqs = parse_fasta(ALINGMENT_FILE)\n",
    "\n",
    "msa_converters = {\n",
    "    \"TEM1\": create_pdb_to_msa_converter(msa_seqs[\"1M40_TEM-1\"]),\n",
    "    \"ENCA\": create_pdb_to_msa_converter(msa_seqs[\"3ZDJ_ENCA\"]),\n",
    "    \"GNCA\": create_pdb_to_msa_converter(msa_seqs[\"4B88_GNCA\"]),\n",
    "    \"PNCA\": create_pdb_to_msa_converter(msa_seqs[\"4C6Y_PNCA\"])\n",
    "}"
   ]
  },
  {
   "cell_type": "markdown",
   "metadata": {},
   "source": [
    "prepare dataframes of each system"
   ]
  },
  {
   "cell_type": "code",
   "execution_count": 4,
   "metadata": {},
   "outputs": [],
   "source": [
    "all_dfs = {}\n",
    "for system, substrates in KIF_FILES.items():\n",
    "    benzyl_df = pd.read_csv(substrates[\"benzyl\"])\n",
    "    cefo_df = pd.read_csv(substrates[\"cefo\"])\n",
    "\n",
    "    # merge on feature name, calc delta\n",
    "    merged_df = benzyl_df.merge(cefo_df, how=\"outer\", on=\"Feature\")\n",
    "    merged_df.columns = [\"Feature\", \"Score_Benzyl\", \"Score_Cefo\"]\n",
    "    merged_df = merged_df.fillna(0.0)\n",
    "\n",
    "    merged_df[\"Absolute Delta\"] = abs(merged_df[\"Score_Benzyl\"] - merged_df[\"Score_Cefo\"])\n",
    "    merged_df = merged_df.sort_values(\"Absolute Delta\", ascending=False)\n",
    "\n",
    "    # get scores and output as pymol results files\n",
    "    delta_dict = dict(zip(\n",
    "        merged_df[\"Feature\"].values,\n",
    "        merged_df[\"Absolute Delta\"].values\n",
    "    ))\n",
    "    \n",
    "    all_dfs[system] = merged_df"
   ]
  },
  {
   "cell_type": "code",
   "execution_count": 5,
   "metadata": {},
   "outputs": [
    {
     "data": {
      "text/html": [
       "<div>\n",
       "<style scoped>\n",
       "    .dataframe tbody tr th:only-of-type {\n",
       "        vertical-align: middle;\n",
       "    }\n",
       "\n",
       "    .dataframe tbody tr th {\n",
       "        vertical-align: top;\n",
       "    }\n",
       "\n",
       "    .dataframe thead th {\n",
       "        text-align: right;\n",
       "    }\n",
       "</style>\n",
       "<table border=\"1\" class=\"dataframe\">\n",
       "  <thead>\n",
       "    <tr style=\"text-align: right;\">\n",
       "      <th></th>\n",
       "      <th>Feature</th>\n",
       "      <th>Score_Benzyl</th>\n",
       "      <th>Score_Cefo</th>\n",
       "      <th>Absolute Delta</th>\n",
       "    </tr>\n",
       "  </thead>\n",
       "  <tbody>\n",
       "    <tr>\n",
       "      <th>21</th>\n",
       "      <td>105Ser 209Lys Hbond</td>\n",
       "      <td>-0.285994</td>\n",
       "      <td>0.379897</td>\n",
       "      <td>0.665891</td>\n",
       "    </tr>\n",
       "    <tr>\n",
       "      <th>36</th>\n",
       "      <td>112Leu 116Thr Hbond</td>\n",
       "      <td>-0.248764</td>\n",
       "      <td>0.278501</td>\n",
       "      <td>0.527266</td>\n",
       "    </tr>\n",
       "    <tr>\n",
       "      <th>32</th>\n",
       "      <td>18Arg 40Arg Hbond</td>\n",
       "      <td>-0.253587</td>\n",
       "      <td>0.265159</td>\n",
       "      <td>0.518746</td>\n",
       "    </tr>\n",
       "    <tr>\n",
       "      <th>398</th>\n",
       "      <td>111Asn 141Glu Hbond</td>\n",
       "      <td>-0.009367</td>\n",
       "      <td>-0.519496</td>\n",
       "      <td>0.510129</td>\n",
       "    </tr>\n",
       "    <tr>\n",
       "      <th>227</th>\n",
       "      <td>132Asp 167Lys Saltbr</td>\n",
       "      <td>-0.064222</td>\n",
       "      <td>0.445359</td>\n",
       "      <td>0.509580</td>\n",
       "    </tr>\n",
       "    <tr>\n",
       "      <th>...</th>\n",
       "      <td>...</td>\n",
       "      <td>...</td>\n",
       "      <td>...</td>\n",
       "      <td>...</td>\n",
       "    </tr>\n",
       "    <tr>\n",
       "      <th>402</th>\n",
       "      <td>247Glu 250Arg Saltbr</td>\n",
       "      <td>0.007732</td>\n",
       "      <td>0.006616</td>\n",
       "      <td>0.001116</td>\n",
       "    </tr>\n",
       "    <tr>\n",
       "      <th>332</th>\n",
       "      <td>112Leu 115Thr Hbond</td>\n",
       "      <td>-0.026361</td>\n",
       "      <td>-0.025539</td>\n",
       "      <td>0.000823</td>\n",
       "    </tr>\n",
       "    <tr>\n",
       "      <th>34</th>\n",
       "      <td>199Ala 253Ala Hydrophobic</td>\n",
       "      <td>-0.251479</td>\n",
       "      <td>-0.252191</td>\n",
       "      <td>0.000712</td>\n",
       "    </tr>\n",
       "    <tr>\n",
       "      <th>253</th>\n",
       "      <td>251Gln 254Glu Hbond</td>\n",
       "      <td>-0.054056</td>\n",
       "      <td>-0.054744</td>\n",
       "      <td>0.000688</td>\n",
       "    </tr>\n",
       "    <tr>\n",
       "      <th>429</th>\n",
       "      <td>83Val 86Lys Hbond</td>\n",
       "      <td>0.000209</td>\n",
       "      <td>0.000000</td>\n",
       "      <td>0.000209</td>\n",
       "    </tr>\n",
       "  </tbody>\n",
       "</table>\n",
       "<p>445 rows × 4 columns</p>\n",
       "</div>"
      ],
      "text/plain": [
       "                       Feature  Score_Benzyl  Score_Cefo  Absolute Delta\n",
       "21         105Ser 209Lys Hbond     -0.285994    0.379897        0.665891\n",
       "36         112Leu 116Thr Hbond     -0.248764    0.278501        0.527266\n",
       "32           18Arg 40Arg Hbond     -0.253587    0.265159        0.518746\n",
       "398        111Asn 141Glu Hbond     -0.009367   -0.519496        0.510129\n",
       "227       132Asp 167Lys Saltbr     -0.064222    0.445359        0.509580\n",
       "..                         ...           ...         ...             ...\n",
       "402       247Glu 250Arg Saltbr      0.007732    0.006616        0.001116\n",
       "332        112Leu 115Thr Hbond     -0.026361   -0.025539        0.000823\n",
       "34   199Ala 253Ala Hydrophobic     -0.251479   -0.252191        0.000712\n",
       "253        251Gln 254Glu Hbond     -0.054056   -0.054744        0.000688\n",
       "429          83Val 86Lys Hbond      0.000209    0.000000        0.000209\n",
       "\n",
       "[445 rows x 4 columns]"
      ]
     },
     "execution_count": 5,
     "metadata": {},
     "output_type": "execute_result"
    }
   ],
   "source": [
    "all_dfs[\"TEM1\"]"
   ]
  },
  {
   "cell_type": "code",
   "execution_count": 6,
   "metadata": {},
   "outputs": [
    {
     "data": {
      "text/plain": [
       "'43Met 46Thr Hbond'"
      ]
     },
     "execution_count": 6,
     "metadata": {},
     "output_type": "execute_result"
    }
   ],
   "source": [
    "msa_converter = msa_converters[\"TEM1\"]\n",
    "interaction_name = all_dfs[\"TEM1\"][\"Feature\"][0]\n",
    "interaction_name"
   ]
  },
  {
   "cell_type": "code",
   "execution_count": 7,
   "metadata": {},
   "outputs": [],
   "source": [
    "def pdb_feats_to_msa_feats(int_names: list[str], msa_converter: dict[int, int]) -> list[str]:\n",
    "    \"\"\"\n",
    "    Convert a list of KIF labelled interaction names to have msa numbering.\n",
    "    The dictionary that converts between the numbers needs to be provided. \n",
    "    \"\"\"\n",
    "    msa_names = []\n",
    "    for int_name in int_names:\n",
    "        int_split = re.split(r\"(\\d+)\", int_name)\n",
    "        res1_numb, res2_numb = int(int_split[1]), int(int_split[3])\n",
    "\n",
    "        msa_res1, msa_res2 = msa_converter[res1_numb], msa_converter[res2_numb]\n",
    "        updated_name = str(msa_res1) + int_split[2] + str(msa_res2) + int_split[4]\n",
    "    \n",
    "        msa_names.append(updated_name)\n",
    "    return msa_names"
   ]
  },
  {
   "cell_type": "code",
   "execution_count": 8,
   "metadata": {},
   "outputs": [],
   "source": [
    "for system, df in all_dfs.items(): \n",
    "    msa_converter = msa_converters[system]\n",
    "    int_names = list(df[\"Feature\"])\n",
    "    msa_names = pdb_feats_to_msa_feats(int_names=int_names, msa_converter=msa_converter)\n",
    "    df[\"Feature, MSA numbered\"] = msa_names"
   ]
  },
  {
   "cell_type": "code",
   "execution_count": 9,
   "metadata": {},
   "outputs": [
    {
     "data": {
      "text/html": [
       "<div>\n",
       "<style scoped>\n",
       "    .dataframe tbody tr th:only-of-type {\n",
       "        vertical-align: middle;\n",
       "    }\n",
       "\n",
       "    .dataframe tbody tr th {\n",
       "        vertical-align: top;\n",
       "    }\n",
       "\n",
       "    .dataframe thead th {\n",
       "        text-align: right;\n",
       "    }\n",
       "</style>\n",
       "<table border=\"1\" class=\"dataframe\">\n",
       "  <thead>\n",
       "    <tr style=\"text-align: right;\">\n",
       "      <th></th>\n",
       "      <th>Feature</th>\n",
       "      <th>Score_Benzyl</th>\n",
       "      <th>Score_Cefo</th>\n",
       "      <th>Absolute Delta</th>\n",
       "      <th>Feature, MSA numbered</th>\n",
       "    </tr>\n",
       "  </thead>\n",
       "  <tbody>\n",
       "    <tr>\n",
       "      <th>21</th>\n",
       "      <td>105Ser 209Lys Hbond</td>\n",
       "      <td>-0.285994</td>\n",
       "      <td>0.379897</td>\n",
       "      <td>0.665891</td>\n",
       "      <td>107Ser 211Lys Hbond</td>\n",
       "    </tr>\n",
       "    <tr>\n",
       "      <th>36</th>\n",
       "      <td>112Leu 116Thr Hbond</td>\n",
       "      <td>-0.248764</td>\n",
       "      <td>0.278501</td>\n",
       "      <td>0.527266</td>\n",
       "      <td>114Leu 118Thr Hbond</td>\n",
       "    </tr>\n",
       "    <tr>\n",
       "      <th>32</th>\n",
       "      <td>18Arg 40Arg Hbond</td>\n",
       "      <td>-0.253587</td>\n",
       "      <td>0.265159</td>\n",
       "      <td>0.518746</td>\n",
       "      <td>20Arg 42Arg Hbond</td>\n",
       "    </tr>\n",
       "  </tbody>\n",
       "</table>\n",
       "</div>"
      ],
      "text/plain": [
       "                Feature  Score_Benzyl  Score_Cefo  Absolute Delta  \\\n",
       "21  105Ser 209Lys Hbond     -0.285994    0.379897        0.665891   \n",
       "36  112Leu 116Thr Hbond     -0.248764    0.278501        0.527266   \n",
       "32    18Arg 40Arg Hbond     -0.253587    0.265159        0.518746   \n",
       "\n",
       "   Feature, MSA numbered  \n",
       "21   107Ser 211Lys Hbond  \n",
       "36   114Leu 118Thr Hbond  \n",
       "32     20Arg 42Arg Hbond  "
      ]
     },
     "execution_count": 9,
     "metadata": {},
     "output_type": "execute_result"
    }
   ],
   "source": [
    "all_dfs[\"TEM1\"].head(3)"
   ]
  },
  {
   "cell_type": "markdown",
   "metadata": {},
   "source": [
    "### Now Calculate the delta between generalists and specialists\n",
    "\n",
    "In order to project on TEM1, we need to make sure the interaction exists in TEM1 and only use those interactions."
   ]
  },
  {
   "cell_type": "code",
   "execution_count": 10,
   "metadata": {},
   "outputs": [
    {
     "data": {
      "text/plain": [
       "(['TEM1', 'ENCA'], ['GNCA', 'PNCA'])"
      ]
     },
     "execution_count": 10,
     "metadata": {},
     "output_type": "execute_result"
    }
   ],
   "source": [
    "SPECIALISTS, GENERALISTS"
   ]
  },
  {
   "cell_type": "code",
   "execution_count": 11,
   "metadata": {},
   "outputs": [
    {
     "data": {
      "text/plain": [
       "['107Ser 211Lys Hbond', '114Leu 118Thr Hbond']"
      ]
     },
     "execution_count": 11,
     "metadata": {},
     "output_type": "execute_result"
    }
   ],
   "source": [
    "tem1_msa_interactions = list(all_dfs[\"TEM1\"][\"Feature, MSA numbered\"])\n",
    "tem1_pdb_interactions = list(all_dfs[\"TEM1\"][\"Feature\"])\n",
    "tem1_msa_interactions[0:2]"
   ]
  },
  {
   "cell_type": "code",
   "execution_count": 12,
   "metadata": {},
   "outputs": [],
   "source": [
    "delta_benzyl_scores, delta_cefo_scores = {}, {}\n",
    "for msa_interaction in tem1_msa_interactions:\n",
    "    benzyl_special_sum, benzyl_general_sum = 0.0, 0.0\n",
    "    cefo_special_sum, cefo_general_sum = 0.0, 0.0\n",
    "    for system, df in all_dfs.items():\n",
    "        try:\n",
    "            row = df[df[\"Feature, MSA numbered\"] == msa_interaction]\n",
    "            benzyl_score = row[\"Score_Benzyl\"].values[0]\n",
    "            cefo_score = row[\"Score_Cefo\"].values[0]\n",
    "        except IndexError:\n",
    "            # couldn't be found, set to 0. \n",
    "            benzyl_score, cefo_score = 0, 0\n",
    "        if system in SPECIALISTS:\n",
    "            benzyl_special_sum += benzyl_score\n",
    "            cefo_special_sum += cefo_score\n",
    "        else:\n",
    "            benzyl_general_sum += benzyl_score\n",
    "            cefo_general_sum += cefo_score\n",
    "\n",
    "    delta_benzyl_scores[msa_interaction] = benzyl_special_sum - benzyl_general_sum\n",
    "    delta_cefo_scores[msa_interaction] = cefo_special_sum - cefo_general_sum"
   ]
  },
  {
   "cell_type": "markdown",
   "metadata": {},
   "source": [
    "Update the interaction numbering to reflect that in a TEM1 PDB file (i.e., not the simulation numbering)"
   ]
  },
  {
   "cell_type": "code",
   "execution_count": 13,
   "metadata": {},
   "outputs": [],
   "source": [
    "tem1_1m40_numbering = modify_column_residue_numbers(\n",
    "    interaction_names=tem1_pdb_interactions, \n",
    "    constant_to_add=25\n",
    ")"
   ]
  },
  {
   "cell_type": "code",
   "execution_count": 14,
   "metadata": {},
   "outputs": [
    {
     "data": {
      "text/html": [
       "<div>\n",
       "<style scoped>\n",
       "    .dataframe tbody tr th:only-of-type {\n",
       "        vertical-align: middle;\n",
       "    }\n",
       "\n",
       "    .dataframe tbody tr th {\n",
       "        vertical-align: top;\n",
       "    }\n",
       "\n",
       "    .dataframe thead th {\n",
       "        text-align: right;\n",
       "    }\n",
       "</style>\n",
       "<table border=\"1\" class=\"dataframe\">\n",
       "  <thead>\n",
       "    <tr style=\"text-align: right;\">\n",
       "      <th></th>\n",
       "      <th>Feature, PDB numbered</th>\n",
       "      <th>Feature, 1M40 numbered</th>\n",
       "      <th>Feature, MSA numbered</th>\n",
       "      <th>delta_benzyl</th>\n",
       "      <th>delta_cefo</th>\n",
       "      <th>Max_diff</th>\n",
       "    </tr>\n",
       "  </thead>\n",
       "  <tbody>\n",
       "    <tr>\n",
       "      <th>129</th>\n",
       "      <td>43Met 46Thr Hbond</td>\n",
       "      <td>68Met 71Thr Hbond</td>\n",
       "      <td>45Met 48Thr Hbond</td>\n",
       "      <td>-0.890221</td>\n",
       "      <td>-0.682554</td>\n",
       "      <td>0.890221</td>\n",
       "    </tr>\n",
       "    <tr>\n",
       "      <th>255</th>\n",
       "      <td>139Arg 146Glu Saltbr</td>\n",
       "      <td>164Arg 171Glu Saltbr</td>\n",
       "      <td>141Arg 148Glu Saltbr</td>\n",
       "      <td>0.698251</td>\n",
       "      <td>0.777367</td>\n",
       "      <td>0.777367</td>\n",
       "    </tr>\n",
       "    <tr>\n",
       "      <th>13</th>\n",
       "      <td>138Asp 153Arg Saltbr</td>\n",
       "      <td>163Asp 178Arg Saltbr</td>\n",
       "      <td>140Asp 155Arg Saltbr</td>\n",
       "      <td>-0.399970</td>\n",
       "      <td>-0.722681</td>\n",
       "      <td>0.722681</td>\n",
       "    </tr>\n",
       "  </tbody>\n",
       "</table>\n",
       "</div>"
      ],
      "text/plain": [
       "    Feature, PDB numbered Feature, 1M40 numbered Feature, MSA numbered  \\\n",
       "129     43Met 46Thr Hbond      68Met 71Thr Hbond     45Met 48Thr Hbond   \n",
       "255  139Arg 146Glu Saltbr   164Arg 171Glu Saltbr  141Arg 148Glu Saltbr   \n",
       "13   138Asp 153Arg Saltbr   163Asp 178Arg Saltbr  140Asp 155Arg Saltbr   \n",
       "\n",
       "     delta_benzyl  delta_cefo  Max_diff  \n",
       "129     -0.890221   -0.682554  0.890221  \n",
       "255      0.698251    0.777367  0.777367  \n",
       "13      -0.399970   -0.722681  0.722681  "
      ]
     },
     "execution_count": 14,
     "metadata": {},
     "output_type": "execute_result"
    }
   ],
   "source": [
    "delta_df = pd.DataFrame([delta_benzyl_scores, delta_cefo_scores]).T.reset_index()\n",
    "delta_df.columns = [\"Feature, MSA numbered\", \"delta_benzyl\", \"delta_cefo\"]\n",
    "delta_df.insert(loc=0, column=\"Feature, PDB numbered\", value=tem1_pdb_interactions)\n",
    "delta_df.insert(loc=1, column=\"Feature, 1M40 numbered\", value=tem1_1m40_numbering)\n",
    "delta_df[\"Max_diff\"] = delta_df[[\"delta_benzyl\", \"delta_cefo\"]].abs().max(axis=1)\n",
    "delta_df = delta_df.sort_values(by=\"Max_diff\", ascending=False)\n",
    "delta_df.head(3)"
   ]
  },
  {
   "cell_type": "markdown",
   "metadata": {},
   "source": [
    "Save top interaction differences for an SI table"
   ]
  },
  {
   "cell_type": "code",
   "execution_count": 15,
   "metadata": {},
   "outputs": [],
   "source": [
    "top_deltas_df = delta_df.head(40).round(2).drop([\"Feature, PDB numbered\", \"Feature, MSA numbered\", \"Max_diff\"], axis=1)\n",
    "top_deltas_df.columns = [\"Interaction\", \"Delta Benzyl Penicillin\", \"Delta Cefotaxime\"]\n",
    "top_deltas_df.to_csv(r\"outputs/delta_special_general/max_per_interaction_diffs.csv\", index=False)"
   ]
  },
  {
   "cell_type": "markdown",
   "metadata": {},
   "source": [
    "### Make pymol projections (onto TEM1) of these results"
   ]
  },
  {
   "cell_type": "code",
   "execution_count": 16,
   "metadata": {},
   "outputs": [
    {
     "name": "stdout",
     "output_type": "stream",
     "text": [
      "The file: outputs/delta_special_general/benzyl_Pymol_Per_Feature_Scores.py was written to disk.\n",
      "The file: outputs/delta_special_general/cefotaxmine_Pymol_Per_Feature_Scores.py was written to disk.\n"
     ]
    }
   ],
   "source": [
    "# get scores and output as pymol results files\n",
    "benzyl_dict = dict(zip(\n",
    "    delta_df[\"Feature, PDB numbered\"].values,\n",
    "    delta_df[\"delta_benzyl\"].values\n",
    "))\n",
    "\n",
    "cefo_dict = dict(zip(\n",
    "    delta_df[\"Feature, PDB numbered\"].values,\n",
    "    delta_df[\"delta_cefo\"].values\n",
    "))\n",
    "\n",
    "project_pymol_top_features(\n",
    "        per_feature_scores=benzyl_dict,\n",
    "        model_name=f\"benzyl\",\n",
    "        numb_features=100, \n",
    "        out_dir=rf\"outputs/delta_special_general/\"\n",
    "    )\n",
    "\n",
    "project_pymol_top_features(\n",
    "        per_feature_scores=cefo_dict,\n",
    "        model_name=f\"cefotaxmine\",\n",
    "        numb_features=100, \n",
    "        out_dir=rf\"outputs/delta_special_general/\"\n",
    "    )"
   ]
  },
  {
   "cell_type": "code",
   "execution_count": null,
   "metadata": {},
   "outputs": [],
   "source": []
  }
 ],
 "metadata": {
  "kernelspec": {
   "display_name": "py_3_10_kif",
   "language": "python",
   "name": "python3"
  },
  "language_info": {
   "codemirror_mode": {
    "name": "ipython",
    "version": 3
   },
   "file_extension": ".py",
   "mimetype": "text/x-python",
   "name": "python",
   "nbconvert_exporter": "python",
   "pygments_lexer": "ipython3",
   "version": "3.11.7"
  }
 },
 "nbformat": 4,
 "nbformat_minor": 2
}
