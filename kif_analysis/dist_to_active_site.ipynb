{
 "cells": [
  {
   "cell_type": "markdown",
   "metadata": {},
   "source": [
    "### Calculate distance to active site for all residues in all enzymes\n",
    "\n",
    "As the 2 substrates are large and variable in size, I will not use closest distance to them. Instead, I can use the closest distance to the side chain oxygen on the cataltyic serine (S70 in TEM1 PDB numbering). "
   ]
  },
  {
   "cell_type": "code",
   "execution_count": 3,
   "metadata": {},
   "outputs": [],
   "source": [
    "from key_interactions_finder import utils \n",
    "\n",
    "# constants\n",
    "PDB_DIR = \"pdb_files\"\n",
    "OUT_DIR = \"outputs/distances\"\n",
    "PROTEINS = [\"TEM1_1M40\", \"ENCA_3ZDJ\", \"GNCA_4B88\", \"PNCA_4C6Y\"]\n",
    "\n",
    "PROTEIN_SITE_DEFITINITIONS = {\n",
    "    \"TEM1_1M40\": \"name OG and resid 45\", \n",
    "    \"ENCA_3ZDJ\": \"name OG and resid 45\", \n",
    "    \"GNCA_4B88\": \"name OG and resid 42\", \n",
    "    \"PNCA_4C6Y\": \"name OG and resid 44\"\n",
    "}\n",
    "LAST_RESIDUE_NUMBS = {\n",
    "    \"TEM1_1M40\": 263, \n",
    "    \"ENCA_3ZDJ\": 263, \n",
    "    \"GNCA_4B88\": 260, \n",
    "    \"PNCA_4C6Y\": 262 \n",
    "}"
   ]
  },
  {
   "cell_type": "code",
   "execution_count": 4,
   "metadata": {},
   "outputs": [
    {
     "name": "stdout",
     "output_type": "stream",
     "text": [
      "outputs/distances/TEM1_1M40_Dists_to_active_site.txt written to disk.\n",
      "outputs/distances/ENCA_3ZDJ_Dists_to_active_site.txt written to disk.\n",
      "outputs/distances/GNCA_4B88_Dists_to_active_site.txt written to disk.\n",
      "outputs/distances/PNCA_4C6Y_Dists_to_active_site.txt written to disk.\n"
     ]
    }
   ],
   "source": [
    "for protein, site_definition in PROTEIN_SITE_DEFITINITIONS.items():\n",
    "    pdb_file = f\"{PDB_DIR}/{protein}_Benzyl_Pen_postleap.pdb\"\n",
    "    out_file = f\"{OUT_DIR}/{protein}_Dists_to_active_site.txt\"\n",
    "\n",
    "    last_residue = LAST_RESIDUE_NUMBS[protein]\n",
    "\n",
    "    distances_to_site = utils.per_residue_distance_to_site(\n",
    "        pdb_file=pdb_file,\n",
    "        site_defintion=site_definition,\n",
    "        first_residue=1,\n",
    "        last_residue=last_residue,\n",
    "        side_chain_only=False, \n",
    "        out_file=out_file,\n",
    "    )"
   ]
  }
 ],
 "metadata": {
  "kernelspec": {
   "display_name": "py_3_10_kif",
   "language": "python",
   "name": "python3"
  },
  "language_info": {
   "codemirror_mode": {
    "name": "ipython",
    "version": 3
   },
   "file_extension": ".py",
   "mimetype": "text/x-python",
   "name": "python",
   "nbconvert_exporter": "python",
   "pygments_lexer": "ipython3",
   "version": "3.11.7"
  }
 },
 "nbformat": 4,
 "nbformat_minor": 2
}
